{
  "nbformat": 4,
  "nbformat_minor": 0,
  "metadata": {
    "colab": {
      "provenance": [],
      "authorship_tag": "ABX9TyOqwfGFV9htagNQbG4loMeL",
      "include_colab_link": true
    },
    "kernelspec": {
      "name": "python3",
      "display_name": "Python 3"
    },
    "language_info": {
      "name": "python"
    }
  },
  "cells": [
    {
      "cell_type": "markdown",
      "metadata": {
        "id": "view-in-github",
        "colab_type": "text"
      },
      "source": [
        "<a href=\"https://colab.research.google.com/github/gbaghdadi/NeuromatchDeepLearningProject/blob/main/NMAproject2023_PytorchRegression_StringerData.ipynb\" target=\"_parent\"><img src=\"https://colab.research.google.com/assets/colab-badge.svg\" alt=\"Open In Colab\"/></a>"
      ]
    },
    {
      "cell_type": "code",
      "execution_count": 1,
      "metadata": {
        "id": "SBbMPQzPLGMQ"
      },
      "outputs": [],
      "source": [
        "import numpy as np\n",
        "import matplotlib.pyplot as plt\n",
        "from sklearn.decomposition import PCA\n",
        "\n",
        "from sklearn.model_selection import train_test_split\n",
        "from sklearn.linear_model import LinearRegression\n",
        "from sklearn.metrics import r2_score, mean_squared_error, accuracy_score\n",
        "from sklearn.model_selection import KFold\n"
      ]
    },
    {
      "cell_type": "code",
      "source": [
        "# @title NMA Figure settings\n",
        "from matplotlib import rcParams\n",
        "\n",
        "rcParams['figure.figsize'] = [20, 4]\n",
        "rcParams['font.size'] =15\n",
        "rcParams['axes.spines.top'] = False\n",
        "rcParams['axes.spines.right'] = False\n",
        "rcParams['figure.autolayout'] = True"
      ],
      "metadata": {
        "id": "B-Zse3dIMpaW"
      },
      "execution_count": 2,
      "outputs": []
    },
    {
      "cell_type": "code",
      "source": [
        "# @title NMA Data retrieval\n",
        "import os, requests\n",
        "\n",
        "fname = \"stringer_spontaneous.npy\"\n",
        "url = \"https://osf.io/dpqaj/download\"\n",
        "\n",
        "if not os.path.isfile(fname):\n",
        "  try:\n",
        "    r = requests.get(url)\n",
        "  except requests.ConnectionError:\n",
        "    print(\"!!! Failed to download data !!!\")\n",
        "  else:\n",
        "    if r.status_code != requests.codes.ok:\n",
        "      print(\"!!! Failed to download data !!!\")\n",
        "    else:\n",
        "      with open(fname, \"wb\") as fid:\n",
        "        fid.write(r.content)"
      ],
      "metadata": {
        "id": "9Hlzw9zqMst1"
      },
      "execution_count": 3,
      "outputs": []
    },
    {
      "cell_type": "code",
      "source": [
        "# @title NMA Data loading\n",
        "\n",
        "dat = np.load('stringer_spontaneous.npy', allow_pickle=True).item()\n",
        "print(dat.keys())"
      ],
      "metadata": {
        "colab": {
          "base_uri": "https://localhost:8080/"
        },
        "id": "kv--Big1MvFF",
        "outputId": "b5613827-9045-487d-bdd4-1d35313b49c3"
      },
      "execution_count": 6,
      "outputs": [
        {
          "output_type": "stream",
          "name": "stdout",
          "text": [
            "dict_keys(['sresp', 'run', 'beh_svd_time', 'beh_svd_mask', 'stat', 'pupilArea', 'pupilCOM', 'xyz'])\n"
          ]
        }
      ]
    },
    {
      "cell_type": "code",
      "source": [
        "# @title Shape of each data\n",
        "\n",
        "print('neuralActivity dimension:   ', dat['sresp'].shape)\n",
        "print('stat dimension:  ', dat['stat'].shape)\n",
        "print('running speed dimension:  ', dat['run'].shape)\n",
        "print('pupil area dimension:  ', dat['pupilArea'].shape)\n",
        "print('pupil xy position dimension:  ', dat['pupilCOM'].shape)\n",
        "print('faceSVD dimension:   ',dat['beh_svd_time'].shape)"
      ],
      "metadata": {
        "colab": {
          "base_uri": "https://localhost:8080/"
        },
        "id": "D3HdqkptM_PO",
        "outputId": "bed3187d-9a7c-4524-98e6-08a3100e84ac"
      },
      "execution_count": 7,
      "outputs": [
        {
          "output_type": "stream",
          "name": "stdout",
          "text": [
            "neuralActivity dimension:    (11983, 7018)\n",
            "stat dimension:   (11983, 1)\n",
            "running speed dimension:   (7018, 1)\n",
            "pupil area dimension:   (7018, 1)\n",
            "pupil xy position dimension:   (7018, 2)\n",
            "faceSVD dimension:    (7018, 1000)\n"
          ]
        }
      ]
    },
    {
      "cell_type": "code",
      "source": [
        "# @title Input and Output of the Model\n",
        "\n",
        "neural_activity = dat['sresp']    # Input\n",
        "run_speed = dat['run']            # Output\n",
        "pupil_area = dat['pupilArea']     # Output\n",
        "\n",
        "print('Input dimension:  ', neural_activity.shape)\n",
        "print('Output dimension:  ',run_speed.shape)"
      ],
      "metadata": {
        "colab": {
          "base_uri": "https://localhost:8080/"
        },
        "id": "X59-ckzINHse",
        "outputId": "324be7be-b0cd-413b-b0b8-725c4ea29074"
      },
      "execution_count": 8,
      "outputs": [
        {
          "output_type": "stream",
          "name": "stdout",
          "text": [
            "Input dimension:   (11983, 7018)\n",
            "Output dimension:   (7018, 1)\n"
          ]
        }
      ]
    },
    {
      "cell_type": "code",
      "source": [
        "# reshaping input and output\n",
        "neural_activity = np.transpose(neural_activity)\n",
        "runspeed = run_speed.squeeze()\n",
        "pupilarea = pupil_area.squeeze()\n",
        "print('Input dimension:  ', neural_activity.shape)\n",
        "print('Output dimension:  ',runspeed.shape)"
      ],
      "metadata": {
        "colab": {
          "base_uri": "https://localhost:8080/"
        },
        "id": "FD2gW7WxNKxW",
        "outputId": "744e3f85-65a4-4b9b-fd9e-5acc4c7a4bb6"
      },
      "execution_count": 9,
      "outputs": [
        {
          "output_type": "stream",
          "name": "stdout",
          "text": [
            "Input dimension:   (7018, 11983)\n",
            "Output dimension:   (7018,)\n"
          ]
        }
      ]
    },
    {
      "cell_type": "code",
      "source": [
        "# @title Dimension Reduction of the Input using PCA\n",
        "pca_model = PCA(n_components=500)\n",
        "reduced = pca_model.fit_transform(neural_activity)\n",
        "component = pca_model.components_\n",
        "neural_activity = reduced\n",
        "print(neural_activity.shape)\n",
        "# print(component.shape)"
      ],
      "metadata": {
        "colab": {
          "base_uri": "https://localhost:8080/"
        },
        "id": "AeqSzuJCNLkX",
        "outputId": "ff3ba54e-d21c-4806-ed69-eeadc283483e"
      },
      "execution_count": 10,
      "outputs": [
        {
          "output_type": "stream",
          "name": "stdout",
          "text": [
            "(7018, 500)\n"
          ]
        }
      ]
    },
    {
      "cell_type": "markdown",
      "source": [
        "#Pytorch Regression Model: neural activity -> running speed"
      ],
      "metadata": {
        "id": "tomVykynNREe"
      }
    },
    {
      "cell_type": "code",
      "source": [],
      "metadata": {
        "id": "P4YpS0kiNXXq"
      },
      "execution_count": null,
      "outputs": []
    }
  ]
}